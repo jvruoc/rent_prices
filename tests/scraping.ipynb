{
 "cells": [
  {
   "cell_type": "code",
   "execution_count": 4,
   "metadata": {},
   "outputs": [],
   "source": [
    "import os\n",
    "from selenium import webdriver\n",
    "from selenium.webdriver.common.by import By\n"
   ]
  },
  {
   "cell_type": "code",
   "execution_count": 5,
   "metadata": {},
   "outputs": [],
   "source": [
    "path = \"/usr/local/bin/chromedriver\""
   ]
  },
  {
   "cell_type": "code",
   "execution_count": 39,
   "metadata": {},
   "outputs": [
    {
     "name": "stdout",
     "output_type": "stream",
     "text": [
      "\n",
      "User agent:\n",
      "Mozilla/5.0 (Windows NT 6.1; WOW64) AppleWebKit/537.36 (KHTML, like Gecko) Chrome/41.0.2227.0 Safari/537.36\n",
      "\n"
     ]
    }
   ],
   "source": [
    "user_agent = {\n",
    "    \"User-Agent\": \"Mozilla/5.0 (X11; Linux x86_64) AppleWebKit/537.36 (KHTML, like Gecko) Chrome/99.0.4844.74 Safari/537.36\",\n",
    "    \"Accept\":\"text/html,application/xhtml+xml,application/xml;q=0.9,image/webp,*/*;q=0.8\",\n",
    "    \"Accept-language\": \"es-ES,es;q=0.9\",\n",
    "    \"Host\":\"www.idealista.com\",\n",
    "    \"Referer\":\"https://www.google.es\"}\n",
    "\n",
    "\n",
    "from fake_useragent import UserAgent\n",
    "ua = UserAgent()\n",
    "user_agent = ua.random\n",
    "print(\"\\nUser agent:\\n\" + user_agent + \"\\n\")"
   ]
  },
  {
   "cell_type": "code",
   "execution_count": 40,
   "metadata": {},
   "outputs": [],
   "source": [
    "opts = webdriver.ChromeOptions()\n",
    "opts.add_argument(f\"user-agent={user_agent}\")\n",
    "opts.add_argument(\"start-maximized\")\n",
    "\n",
    "browser = webdriver.Chrome(executable_path=path, options=opts)"
   ]
  },
  {
   "cell_type": "code",
   "execution_count": 25,
   "metadata": {},
   "outputs": [
    {
     "data": {
      "text/plain": [
       "<selenium.webdriver.chrome.webdriver.WebDriver (session=\"6bbb74bf7cb1dbdec4b5682aa4dce253\")>"
      ]
     },
     "execution_count": 25,
     "metadata": {},
     "output_type": "execute_result"
    }
   ],
   "source": [
    "browser"
   ]
  },
  {
   "cell_type": "code",
   "execution_count": 41,
   "metadata": {},
   "outputs": [],
   "source": [
    "url = \"https://www.fotocasa.es/es/alquiler/viviendas/madrid-capital/todas-las-zonas/l?sortType=publicationDate\"\n",
    "#url = \"https://www.fotocasa.es/\"\n",
    "#url = \"https://www.idealista.com/en/alquiler-viviendas/madrid-madrid/\"\n",
    "browser.get(url)"
   ]
  },
  {
   "cell_type": "code",
   "execution_count": 42,
   "metadata": {},
   "outputs": [],
   "source": [
    "aceptar = browser.find_elements(by=By.XPATH, value=\"//footer[contains(@class,'Modal')]//button\")[1]"
   ]
  },
  {
   "cell_type": "code",
   "execution_count": 43,
   "metadata": {},
   "outputs": [],
   "source": [
    "aceptar.click()"
   ]
  },
  {
   "cell_type": "code",
   "execution_count": 44,
   "metadata": {},
   "outputs": [],
   "source": [
    "items = browser.find_elements(by=By.XPATH, value='//article[starts-with(@class, \"re-CardPack\")]' )"
   ]
  },
  {
   "cell_type": "code",
   "execution_count": 45,
   "metadata": {},
   "outputs": [
    {
     "data": {
      "text/plain": [
       "'https://www.fotocasa.es/es/alquiler/vivienda/madrid-capital/calefaccion-zona-comunitaria-ascensor-parking-piscina-no-amueblado/163003300/d'"
      ]
     },
     "execution_count": 45,
     "metadata": {},
     "output_type": "execute_result"
    }
   ],
   "source": [
    "items[0].find_element(by=By.XPATH, value=\"./a\").get_attribute(\"href\")"
   ]
  },
  {
   "cell_type": "code",
   "execution_count": 48,
   "metadata": {},
   "outputs": [
    {
     "name": "stdout",
     "output_type": "stream",
     "text": [
      "[{'title': 'Piso de alquiler en Calle de Antonio López Aguado, Fuencarral', 'link': 'https://www.fotocasa.es/es/alquiler/vivienda/madrid-capital/calefaccion-zona-comunitaria-ascensor-parking-piscina-no-amueblado/163003300/d', 'precio': '1.400 € /mes', 'periodicidad': '/mes', 'feaures': ['2 habs.', '1 baño', '87 m²', '1ª Planta', 'Ascensor']}, {'title': 'Piso de alquiler en Arganzuela', 'link': 'https://www.fotocasa.es/es/alquiler/vivienda/madrid-capital/aire-acondicionado/163003255/d', 'precio': '1.374 € /mes', 'periodicidad': '/mes', 'feaures': ['3 habs.', '2 baños', '105 m²', 'Aire acondicionado']}, {'title': 'Piso de alquiler en Arganzuela', 'link': 'https://www.fotocasa.es/es/alquiler/vivienda/madrid-capital/aire-acondicionado/163003241/d', 'precio': '1.374 € /mes', 'periodicidad': '/mes', 'feaures': ['3 habs.', '2 baños', '105 m²', 'Aire acondicionado']}, {'title': 'Piso de alquiler en Barrio de Salamanca', 'link': 'https://www.fotocasa.es/es/alquiler/vivienda/madrid-capital/aire-acondicionado/163003234/d', 'precio': '850 € /mes', 'periodicidad': '/mes', 'feaures': ['1 hab.', '1 baño', '50 m²', 'Aire acondicionado']}]\n"
     ]
    }
   ],
   "source": [
    "data=[]\n",
    "for item in items:\n",
    "    rent = dict()\n",
    "    rent['title'] = item.find_element(by=By.XPATH, value=\"./a\").get_attribute(\"title\")\n",
    "    rent['link'] = item.find_element(by=By.XPATH, value=\"./a\").get_attribute(\"href\")\n",
    "    rent['precio'] = item.find_element(by=By.XPATH, value=\".//span[@class='re-CardPrice']\").text\n",
    "    rent['periodicidad'] = item.find_element(by=By.XPATH, value=\".//span[@class='re-CardPricePeriodicity']\").text\n",
    "    features = []\n",
    "    for f in item.find_elements(by=By.XPATH, value=\".//li[@class='re-CardFeatures-feature']\"):\n",
    "        features.append(f.text)\n",
    "    rent['feaures'] = features\n",
    "    data.append(rent)\n",
    "print(data)\n",
    "    "
   ]
  },
  {
   "cell_type": "code",
   "execution_count": 24,
   "metadata": {},
   "outputs": [],
   "source": [
    "browser.find_element_by_id('usuario').send_keys('') # meter dni\n",
    "browser.find_element_by_id('contrasenia').send_keys('') # meter contraseña\n",
    "browser.find_element_by_xpath(\"//input[@value='Iniciar Sesión']\").click() \n",
    "\n",
    "\n",
    "# // para buscar en todo el xml, independientemente del nivel al que este\n",
    "browser.find_element_by_xpath('//div[@class=\"txt_banner_campus\"]').click() #Esto abre una nueva ventana\n",
    "browser.switch_to.window(browser.window_handles[1])"
   ]
  },
  {
   "cell_type": "code",
   "execution_count": 38,
   "metadata": {},
   "outputs": [],
   "source": [
    "browser.quit()"
   ]
  },
  {
   "cell_type": "code",
   "execution_count": 39,
   "metadata": {},
   "outputs": [],
   "source": [
    "browser.find_element_by_id('usuario').send_keys('*********') # meter dni\n",
    "browser.find_element_by_id('contrasenia').send_keys('***********') # meter contraseña"
   ]
  },
  {
   "cell_type": "code",
   "execution_count": 41,
   "metadata": {},
   "outputs": [],
   "source": [
    "browser.find_element_by_xpath(\"//input[@value='Iniciar Sesión']\").click() \n",
    "# // para buscar en todo el xml, independientemente del nivel al que este"
   ]
  },
  {
   "cell_type": "code",
   "execution_count": 42,
   "metadata": {},
   "outputs": [],
   "source": [
    "browser.find_element_by_xpath('//div[@class=\"txt_banner_campus\"]').click()"
   ]
  },
  {
   "cell_type": "code",
   "execution_count": 61,
   "metadata": {},
   "outputs": [],
   "source": [
    "browser.switch_to.window(browser.window_handles[1])"
   ]
  },
  {
   "cell_type": "code",
   "execution_count": 65,
   "metadata": {},
   "outputs": [],
   "source": [
    "browser.find_element_by_xpath('//div[@class=\"col-12 col-sm-7 col-md-8\"]/a').click()"
   ]
  },
  {
   "cell_type": "code",
   "execution_count": null,
   "metadata": {},
   "outputs": [],
   "source": []
  },
  {
   "cell_type": "code",
   "execution_count": null,
   "metadata": {},
   "outputs": [],
   "source": []
  },
  {
   "cell_type": "code",
   "execution_count": null,
   "metadata": {},
   "outputs": [],
   "source": []
  },
  {
   "cell_type": "code",
   "execution_count": null,
   "metadata": {},
   "outputs": [],
   "source": []
  },
  {
   "cell_type": "code",
   "execution_count": null,
   "metadata": {},
   "outputs": [],
   "source": []
  },
  {
   "cell_type": "code",
   "execution_count": null,
   "metadata": {},
   "outputs": [],
   "source": []
  },
  {
   "cell_type": "code",
   "execution_count": null,
   "metadata": {},
   "outputs": [],
   "source": []
  },
  {
   "cell_type": "code",
   "execution_count": null,
   "metadata": {},
   "outputs": [],
   "source": []
  },
  {
   "cell_type": "code",
   "execution_count": null,
   "metadata": {},
   "outputs": [],
   "source": []
  },
  {
   "cell_type": "code",
   "execution_count": null,
   "metadata": {},
   "outputs": [],
   "source": []
  },
  {
   "cell_type": "code",
   "execution_count": null,
   "metadata": {},
   "outputs": [],
   "source": []
  },
  {
   "cell_type": "code",
   "execution_count": null,
   "metadata": {},
   "outputs": [],
   "source": []
  },
  {
   "cell_type": "code",
   "execution_count": null,
   "metadata": {},
   "outputs": [],
   "source": []
  },
  {
   "cell_type": "code",
   "execution_count": null,
   "metadata": {},
   "outputs": [],
   "source": []
  }
 ],
 "metadata": {
  "kernelspec": {
   "display_name": "scraping",
   "language": "python",
   "name": "scraping"
  },
  "language_info": {
   "codemirror_mode": {
    "name": "ipython",
    "version": 3
   },
   "file_extension": ".py",
   "mimetype": "text/x-python",
   "name": "python",
   "nbconvert_exporter": "python",
   "pygments_lexer": "ipython3",
   "version": "3.8.12"
  }
 },
 "nbformat": 4,
 "nbformat_minor": 4
}
